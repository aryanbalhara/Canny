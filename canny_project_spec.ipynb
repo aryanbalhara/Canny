{
 "cells": [
  {
   "cell_type": "markdown",
   "metadata": {},
   "source": [
    "# Canny Edge Detector\n",
    "\n",
    "## Background\n",
    "\n",
    "In this project you have to implement a method for detecting edges on the images. One of the most popular ways to deal with this task is [Canny's algorithm](https://en.wikipedia.org/wiki/Canny_edge_detector). It has several stages:\n",
    "1. Image smothing (to reduce the noise)\n",
    "2. Gradient calculation (its orientation and magnitude)\n",
    "3. Non-max suppression (to thin out the edges)\n",
    "4. Double threshold\n",
    "5. Edge Tracking by Hysteresis.\n",
    "\n",
    "Your goal is to perform each stage of the algorithm. After applying these stages to some input image you will see the following results:\n",
    "\n",
    "<table><tr>\n",
    "<td> \n",
    "  <p align=\"center\" style=\"padding: 10px\">\n",
    "    <img alt=\"Input\" src=\"whitepawn.jpg\" width=\"320\">\n",
    "    <br>\n",
    "    <em style=\"color: black\">Input image</em>\n",
    "  </p> \n",
    "</td>\n",
    "<td> \n",
    "  <p align=\"center\">\n",
    "    <img alt=\"Result\" src=\"canny.jpg\" width=\"320\">\n",
    "    <br>\n",
    "    <em style=\"color: black\">Result</em>\n",
    "  </p> \n",
    "</td>\n",
    "</tr></table>\n",
    "\n",
    "All the code you should complete will be at the same level of indentation as the instruction comment.\n",
    "\n",
    "You will need to use some of the following functions:\n",
    "```python\n",
    "convolve(image, kernel, padding)                #apply convolution to the image (matrix)\n",
    "get_gaussian_kernel(kernel_size)                #get gaussian kernel of selected size\n",
    "get_sobel_kernel(kernel_size, direction)        #get Sobel kernel of selected size and direction (if True, horisontal)\n",
    "non_max_suppression(intensity, orientation)     #apply non-max supperession on given gradient intensity matrix using the matrix of gradient orientations\n",
    "threshold(img, low_threshold, high_threshold, weak, strong) #double threshold function\n",
    "hysteresis(img, weak, strong)                   #hysteresis function to choose if weak pixel should be included in edges\n",
    "\n",
    "```\n",
    "\n",
    "This exercise will require you to combine these functions correctly. You will find more details about these functions below\n",
    "\n",
    "\n",
    "\n",
    "### How to submit\n",
    "Edit the code in the cell below to complete the assignment.\n",
    "Once you are finished and happy with it, press the *Submit Assignment* button at the top of this notebook.\n",
    "\n",
    "Please don't change any of the function names, as these will be checked by the grading script.\n"
   ]
  },
  {
   "cell_type": "code",
   "execution_count": 1,
   "metadata": {},
   "outputs": [],
   "source": [
    "# PACKAGES\n",
    "# First of all, run this cell once to load the dependancies.\n",
    "import cv2\n",
    "import numpy as np\n",
    "import matplotlib.pyplot as plt\n",
    "from utils import convolve, get_gaussian_kernel, get_sobel_kernel, non_max_suppression, threshold, hysteresis"
   ]
  },
  {
   "cell_type": "code",
   "execution_count": 2,
   "metadata": {},
   "outputs": [],
   "source": [
    "# Image reading\n",
    "# Use this function to read images and \n",
    "\n",
    "def processImage(image):\n",
    "  image = cv2.imread(image) \n",
    "  image = cv2.cvtColor(src=image, code=cv2.COLOR_BGR2GRAY) \n",
    "  return image"
   ]
  },
  {
   "cell_type": "code",
   "execution_count": null,
   "metadata": {
    "deletable": false,
    "nbgrader": {
     "cell_type": "code",
     "checksum": "2bdad78a3fb17019db335cbf175356c6",
     "grade": false,
     "grade_id": "cell-512786cf22f4171f",
     "locked": false,
     "schema_version": 3,
     "solution": true,
     "task": false
    }
   },
   "outputs": [],
   "source": [
    "# GRADED FUNCTIONS\n",
    "# You should edit this cell.\n",
    "\n",
    "# In this function, you will return the edges for the image (matrix), the result of application \n",
    "# of Canny's algorithm\n",
    "# It should have the following signature\n",
    "# def get_canny_edges(img) : # The parameter img is an image that is passed to the function.\n",
    "\n",
    "def get_canny_edges(img):\n",
    "    \"\"\"\n",
    "    # Use convolve to apply gaussian filter from get_gaussian_kernel to the image\n",
    "    denoised = ???\n",
    "    # Get Sobel kernels and compute horizontal and vertical gradients using convolve function\n",
    "    horizontal_grad = ???\n",
    "    vertical_grad = ???\n",
    "    # Compute the intensity and direction of gradients using get_intensity_and_direction\n",
    "    # NOTE: you should implement it below\n",
    "    grad_intensity, grad_direction = ???\n",
    "    # Use this matrices in non-max supression method to make thinner edges\n",
    "    thin_edges = ???\n",
    "    # Discard irrelevant pixels using double threshold method\n",
    "    thresholded = ???\n",
    "    # Use hysteresis to define which weak pixels should be included in the final results\n",
    "    # NOTE: parameters \"weak\" and \"strong\" should be the same for threshold and hysteresis\n",
    "    final_result = ???\n",
    "    return final_result\n",
    "    \"\"\"\n",
    "    # your code here\n",
    "    gauss_kernel = get_gaussian_kernel(3)\n",
    "    denoised = convolve(img, gauss_kernel)\n",
    "\n",
    "    kernelX = get_sobel_kernel(3)\n",
    "    kernelY = kernelX.transpose()\n",
    "    horizontal_grad = convolve(img, kernelX)\n",
    "    vertical_grad = convolve(img, kernelY)\n",
    "    grad_intensity, grad_direction = get_intensity_and_direction(horizontal_grad, vertical_grad)\n",
    "\n",
    "    thin_edges = non_max_suppression(grad_intensity, grad_direction)\n",
    "    \n",
    "    high_threshold = 0.5*thin_edges.max()\n",
    "    low_threshold = high_threshold*0.5    \n",
    "    strong = 255\n",
    "    weak = 0\n",
    "    \n",
    "    M, N = img.shape\n",
    "    res = np.zeros((M,N))\n",
    "\n",
    "    strong_i, strong_j = np.where(thin_edges >= high_threshold)\n",
    "    zeros_i, zeros_j = np.where(thin_edges < low_threshold)\n",
    "    \n",
    "    weak_i, weak_j = np.where((thin_edges <= high_threshold) & (thin_edges >= low_threshold))\n",
    "    res[strong_i, strong_j] = strong\n",
    "    res[weak_i, weak_j] = weak\n",
    "    \n",
    "\n",
    "    thresholded = threshold(thin_edges, low_threshold, high_threshold, weak, strong)\n",
    "    test_img1 = hysteresis(thresholded, weak, strong)\n",
    "    return test_img1\n",
    "    \n",
    "    \n",
    "# In this function you will return gradient intensity and direction (in radians)\n",
    "def get_intensity_and_direction(horizontal_grad, vertical_grad):    \n",
    "    # your code here\n",
    "    Ix = convolve(horizontal_grad, kernelX)\n",
    "    Iy = convolve(vertical_grad, kernelY)\n",
    "    grad_intensity = np.hypot(Ix,Iy)\n",
    "    grad_direction = np.arctan2(Ix,Iy)\n",
    "    \n",
    "    return grad_intensity, grad_direction\n",
    "\n",
    "#def threshold(img, low_threshold, high_threshold, weak, strong):\n",
    "#    M, N = img.shape\n",
    "#\n",
    "#    res = np.zeros((M,N))\n",
    "#\n",
    "#    strong_i, strong_j = np.where(thin_edges >= high_threshold)\n",
    "#    zeros_i, zeros_j = np.where(thin_edges < low_threshold)\n",
    "#    \n",
    "#    weak_i, weak_j = np.where((thin_edges <= high_threshold) & (thin_edges >= low_threshold))\n",
    "#    res[strong_i, strong_j] = strong\n",
    "#    res[weak_i, weak_j] = weak\n",
    "#    return res\n",
    "\n"
   ]
  },
  {
   "cell_type": "markdown",
   "metadata": {},
   "source": [
    "### These cells will be used to test your submission\n",
    "You can test your solution there, but other tests are hidden from you"
   ]
  },
  {
   "cell_type": "code",
   "execution_count": null,
   "metadata": {
    "deletable": false,
    "editable": false,
    "nbgrader": {
     "cell_type": "code",
     "checksum": "5cff62be554d616e982343b09532e730",
     "grade": true,
     "grade_id": "cell-46769726e9adabdd",
     "locked": true,
     "points": 25,
     "schema_version": 3,
     "solution": false,
     "task": false
    }
   },
   "outputs": [],
   "source": [
    "from nose.tools import assert_equal, assert_raises, assert_greater\n",
    "test_img1 = processImage(\"circle.jpg\")\n",
    "result1 = get_canny_edges(test_img1)\n",
    "assert_equal(result1.shape[0],test_img1.shape[0])\n",
    "assert_equal(result1.shape[1],test_img1.shape[1])"
   ]
  },
  {
   "cell_type": "code",
   "execution_count": null,
   "metadata": {
    "deletable": false,
    "editable": false,
    "nbgrader": {
     "cell_type": "code",
     "checksum": "3209ed1ddc42f5de41d7ac5f763c6020",
     "grade": true,
     "grade_id": "cell-a98e2ce127d4fd1d",
     "locked": true,
     "points": 20,
     "schema_version": 3,
     "solution": false,
     "task": false
    }
   },
   "outputs": [],
   "source": [
    "test_img3 = processImage(\"asd.jpg\")\n",
    "result3 = get_canny_edges(test_img3)\n",
    "assert_greater(result3[6,7], 0)"
   ]
  },
  {
   "cell_type": "code",
   "execution_count": null,
   "metadata": {
    "deletable": false,
    "editable": false,
    "nbgrader": {
     "cell_type": "code",
     "checksum": "3051f82e2498da658f56b50a7abd037f",
     "grade": true,
     "grade_id": "cell-4d456dc6506df4a7",
     "locked": true,
     "points": 40,
     "schema_version": 3,
     "solution": false,
     "task": false
    }
   },
   "outputs": [],
   "source": [
    "\"\"\"Check that get_canny_edges relies on get_intensity_and_direction.\"\"\"\n",
    "orig_get_intensity_and_direction = get_intensity_and_direction\n",
    "del get_intensity_and_direction\n",
    "try:\n",
    "    assert_raises(NameError, get_canny_edges, test_img1)\n",
    "except AssertionError:\n",
    "    raise AssertionError(\"get_canny_edges does not use get_intensity_and_direction\")\n",
    "finally:\n",
    "    get_intensity_and_direction = orig_get_intensity_and_direction"
   ]
  },
  {
   "cell_type": "code",
   "execution_count": null,
   "metadata": {
    "deletable": false,
    "editable": false,
    "nbgrader": {
     "cell_type": "code",
     "checksum": "445035339943c8553d12efff4ba0f958",
     "grade": true,
     "grade_id": "cell-48e7d1e0e1cc187b",
     "locked": true,
     "points": 5,
     "schema_version": 3,
     "solution": false,
     "task": false
    }
   },
   "outputs": [],
   "source": []
  },
  {
   "cell_type": "code",
   "execution_count": null,
   "metadata": {
    "deletable": false,
    "editable": false,
    "nbgrader": {
     "cell_type": "code",
     "checksum": "1446c092e51bf16adeade0bbf8d3ad27",
     "grade": true,
     "grade_id": "cell-5df1797d6ff0e680",
     "locked": true,
     "points": 10,
     "schema_version": 3,
     "solution": false,
     "task": false
    }
   },
   "outputs": [],
   "source": [
    "\n",
    "assert_greater((result1>0).sum(), 1500)\n",
    "assert_greater(1600, (result1>0).sum())"
   ]
  },
  {
   "cell_type": "markdown",
   "metadata": {},
   "source": [
    "# There you can see examples for each stage of the algorithm"
   ]
  },
  {
   "cell_type": "code",
   "execution_count": 3,
   "metadata": {
    "scrolled": true
   },
   "outputs": [],
   "source": [
    "img = processImage(\"whitepawn.jpg\")"
   ]
  },
  {
   "cell_type": "code",
   "execution_count": 4,
   "metadata": {},
   "outputs": [
    {
     "data": {
      "text/plain": [
       "<matplotlib.image.AxesImage at 0x7f845318db10>"
      ]
     },
     "execution_count": 4,
     "metadata": {},
     "output_type": "execute_result"
    },
    {
     "data": {
      "image/png": "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\n",
      "text/plain": [
       "<Figure size 432x288 with 1 Axes>"
      ]
     },
     "metadata": {
      "needs_background": "light"
     },
     "output_type": "display_data"
    }
   ],
   "source": [
    "plt.imshow(img, cmap='gray')"
   ]
  },
  {
   "cell_type": "code",
   "execution_count": 27,
   "metadata": {},
   "outputs": [
    {
     "data": {
      "text/plain": [
       "<matplotlib.image.AxesImage at 0x7f84514d4110>"
      ]
     },
     "execution_count": 27,
     "metadata": {},
     "output_type": "execute_result"
    },
    {
     "data": {
      "image/png": "iVBORw0KGgoAAAANSUhEUgAAAQEAAAD8CAYAAAB3lxGOAAAABHNCSVQICAgIfAhkiAAAAAlwSFlzAAALEgAACxIB0t1+/AAAADh0RVh0U29mdHdhcmUAbWF0cGxvdGxpYiB2ZXJzaW9uMy4yLjEsIGh0dHA6Ly9tYXRwbG90bGliLm9yZy+j8jraAAAgAElEQVR4nO3df3BU9dn38fe1uyQQCG5AAgi2/Ig/QCzUcTQo07mr8KBWb7RqxdGWqe3gYGSsnRahTp9Wp1rBGXuXQdpSK7VTBZm2KuPoXTGl4hQEsYoVML/AR5lAEgNJIECyP67njz0bFwjJJtnds7vnes2c2ZPD2d2L3bOf/Z7vOXu+oqoYY7zL53YBxhh3WQgY43EWAsZ4nIWAMR5nIWCMx1kIGONxaQsBEblORKpEpFZElqbreYwxAyPpOE9ARPxANTAHOAC8C9ypqntS/mTGmAFJV0vgCqBWVfepaiewHpiXpucyxgxAIE2POw74LOHvA8CVZ1tZROy0RWPS73NVHXX6wnSFgHSz7JQPuogsBBam6fmNMWf6f90tTFcIHADOT/h7PFCfuIKqrgHWgLUEjHFTuvoE3gUuEJGJIlIAzAc2pum5jDEDkJaWgKqGReR+4O+AH3hWVXen47mMMQOTlkOEfS7CdgeMyYT3VPXy0xfaGYPGeJyFgDEeZyFgjMdZCBjjcRYCxnichYAxHmchYIzHWQgY43EWAsZ4nIWAMR5nIWCMx1kIGONxFgLGeJyFgDEeZyFgjMdZCBjjcRYCxnichYAxHmchYIzHWQgY43EWAsZ4nIWAMR5nIWCMx1kIGONxFgLGeFyvISAiz4pIo4h8lLBshIhsEpEa57Yk4d+WiUitiFSJyNx0FW6MSY1kWgJ/BK47bdlSoFJVLwAqnb8RkanEBh+9xLnPahHxp6xaY0zK9RoCqroFOHza4nnAc878c8DNCcvXq2qHqu4HaoErUlSrMSYN+tsnMFpVDwI4t6XO8nHAZwnrHXCWnUFEForIThHZ2c8ajDEpkOqhyaWbZd2OOKyqa4A1YKMSG+Om/rYEGkRkLIBz2+gsPwCcn7DeeKC+/+UZY9Ktvy2BjcAC4Ann9pWE5S+IyFPAecAFwI6BFmkyw+fz4ff7GTp0KEOHDqW4uJhgMEgwGKS4uJjCwkL8fj/Dhw8HoK2tjUgkQmdnJ21tbbS0tHDkyBHa29s5duwY7e3tRCIRVBVVa+xlq15DQETWAf8FnCsiB4CfEfvwbxCR7wGfArcDqOpuEdkA7AHCQIWqRtJUu0mSiJxyC+D3+znnnHM477zzmDJlCmVlZVx00UVMmDCBc889l5KSEoYNG0YgEOha3+fzoar4/bEDPtFoFABVJRqNEo1GCYfDtLe3c/jwYZqamvjkk0+oqamhurqaqqoq6uvraWlp6QqHOAsJ90g2vPjWJ5BeIkIgEKC0tJQpU6Ywc+ZMysvLufDCCxkzZkzXNzzQ9UGP36+7+cTHPd3ZtqdIJMKJEydoaGigurqa7du3s23bNvbs2UNjYyOhUCiV/2XTvfdU9fLTF1oI5In4hzTxQ1xUVMTEiRO55pprmDNnDtOnT2f06NEUFBS4XG1MR0cHTU1NvP/++1RWVlJZWcm+ffs4efLkGWGSDdtpHrAQyFci0vWtXFBQQFlZGTfccAM33XQT06ZNo7i4GJ/P17VuNolvf9FolLa2Nnbv3s3GjRt57bXXqK2t7WohxHc9zIBYCOQrn89HaWkps2fP5o477qC8vJxgMNjVxI/LtgBIFI1Gu+qLRqMcOXKEbdu2sW7dOiorK2lsbOzlEUwSLATyQfxbP95BV1ZWxp133sntt9/O5MmTs6apnwqqSigUora2lr/+9a88//zz1NXVEY1G7YhD/1gI5AOfz0cgEGDq1Knce++9zJs3j9LS0lOCIV/Et834B76hoYFXXnmFNWvWsHv3butM7LtuQ6DrBXZzInZWoU1nmZyQVL/fr9OnT9c1a9ZoU1OTRqNRjYtGo6f8nS/i/6/4FIlEtKmpSX/3u9/ptGnT1Ofzdb0+8Vubzjrt1G4+f9YSyGI+n69rP/n888/nvvvu4zvf+Q6jRo06pTPQi9RpGfz5z3/m6aef5tNPP0VEunYVTLesJZBrk9/v15KSEq2oqNCamhoNh8MaDoc1Eonk5bd+X0UiEY1EIlpdXa2LFi3SYDBorYGep25bAq4HgFoInDKJiIqIBgIBnTVrllZWVmpnZ2c6P0s5K3EX6OTJk/rGG2/orFmzNBAIdL2O8cnt9zVLJtsdyAU+n4+SkhIWL15MRUUFJSUlp+wWmO7FdwOam5t5+umnWb16NYcPxy6DoV982Xid7Q5k+yQiWl5erm+99ZZ2dnZas78P4q2CcDisnZ2d+tZbb2l5eXlXq8Dt9zZLJtsdyLbJ5/N1TUVFRXr//fdrfX29ffhTpL6+XisqKrSoqKjrdfZ4IFgIZNMkIl0b5nnnnadr167VEydO5O2hPjdEo1E9fvy4rl27VseNG2etAguB7Jt8Pp/OmDFD3377bQ2HwxYAKZZ4fsGWLVv0sssu83proNsQsHEHMiz+u/xAIMDcuXP5y1/+wqxZs/D7/Z4/9p9q8ddTRLjqqqvYsGEDc+fOJRAIdP2gytjgIxmnGju199vf/jZ/+tOfmDhxotsleYKIMHHiRP74xz9y9913d10sxWC7A5mY4seqfT6fDh48WB988EFta2tLY0PYnE00GtXW1lZ98MEHdfDgwV7bNbA+AbemeAfgkCFD9JFHHtHjx4/bvr+LIpGIHj16VH/605/qkCFD1Ofzub6NuBkCtjuQAapKYWEhS5cuZcmSJQwePNjtkjxNRCgqKmLJkiX8+Mc/prCw0O2SXGU7RmkU73wqKCiwAMgi8c7CoqIili5dioiwfPlyOjo6AOKtU8+wlkCaBQIBKioq+NGPfpRXF/zIByJCYWEhDz30EIsWLWLQoEGePDpjIZAmIoLP5+Ouu+7i5z//OUOGDPHkBpbN4i2CwYMH88gjj3DXXXd58j2yEEix+AAeIsKcOXNYvnw5w4YNs3MAslT8fRk6dCjLly9nzpw5+P3+vLpCU28sBNJAVZkxYwarVq1i5MiRntvHzEUiwsiRI1m5ciWXXnqp2+VkVK8hICLni8hmEdkrIrtF5AFn+QgR2SQiNc5tScJ9lolIrYhUicjcdP4HstGYMWP49a9/zaRJk+xnwDnE5/NRVlbGypUrGT16tNvlZE53xw311GP4Y4HLnPlioBqYCqwAljrLlwLLnfmpwC6gEJgI1AH+Xp7D7eOnKZuKiop07dq1Gg6HM3TU26RaKBTSZ599VouKivLtoiT9O09AVQ+q6r+d+aPAXmAcMA94zlntOeBmZ34esF5VO1R1P1ALXNHb8+QDEeGee+5h/vz5dm56DvP7/cyfP5977rnHE30DfdpSRWQC8FVgOzBaVQ9CLCiAUme1ccBnCXc74Cw7/bEWishOEdnZ97Kzj8/n48orr+QnP/mJHQrMcSLCkCFDePjhh7n88svzfncu6RAQkWHAX4EfqGpbT6t2s+yMnjFVXaOql2t3lzvKMSLCiBEjWL58OWPGjLEjAXli9OjRPPHEE5SUlPS+cg5LKgREZBCxAHheVf/mLG4QkbHOv48F4uNEHQDOT7j7eKA+NeVmJ5/Px+LFi7nqqqvcLsWk2NVXX01FRUVe7xYkc3RAgD8Ae1X1qYR/2ggscOYXAK8kLJ8vIoUiMhG4ANiRupKzh4jg9/uZOXMm9913X9eRAGsF5A+/309FRQUzZ87sOv8j73TXW6in9tzPItac/xD4wJluAEYClUCNczsi4T4PEzsqUAVcn8RzuN1r2q9JRDQYDOqbb77ZdQ18kz/iIx5FIhF9880382FcA/spcaonn8+nFRUVNi5AHov/5Lujo0MXLVqU6z87tp8Sp5KI8KUvfYkf/OAHDBo0yO1yTJrEm/9+v58f/vCHjB8/Pu92+SwE+snn81FRUWGXB/MIEWHChAl52UloIdBH8V8HTps2jbvvvjuvvhHM2cUvDrtgwQKmTp2aV++7hUAfxY8IVFRUUFpamlcbg+ldaWkp9913H4FAIG/eewuBPlJVLrnkEm655Ra3SzEuEBFuvfVWpk2b5nYpKWMh0Ec+n497772XkSNH2i8EPWrkyJF8//vf7/p9SK5vAxYCfVRWVsa8efNy/o03A3PzzTczefJkgJy/XoSFQBISR7K56667KC0tzfk33vSfiDB69Oi8uRyZhUCSRITS0lJuu+22vHjjzcD4fD6+9a1vMWrUqJzfHiwEkqSqzJ49m8mTJ+fdySKmfyZPnsy1117rdhkDZiGQhPilqefPn09BQYEFgAFil5O/8847c/76ERYCSSorK2PmzJlul2GyzMyZMykrK3O7jAGxEEiCqnLDDTfk/cUlTN+VlJTwjW98w+0yBsRCIAlDhgzhxhtvtOsGmjOICDfeeCNFRUU5u5toW3USJk2axKWXXmqHBc0p4h/6adOm5fQugYVAL0SEa665huLiYgsBcwYR4ZxzzuHrX/+626X0m4VALwKBAHPmzLFThE234r8qnT17ds7+qMhCoAfxE4S+8pWvuF2KyXLTp0+ntLS09xWzkIVAL6ZMmcLo0aPtBCHTo9LSUi6++GK3y+gXC4EeiAjl5eUUFha6XYrJcgUFBZSXl7tdRr9YCPQgfjlxY5JRXl6ek5cesxDoQTAY5MILL3S7DJMjLr74YoLBoNtl9JmFQA/Gjh3rrSGqTb+JCGPGjGHMmDFul9JnFgI9mDJlCoMHD3a7DJMDVJXCwkKmTJnidil9ZiHQg7KyspzcxzPu8Pv9OXnmYDJjEQ4WkR0isktEdovII87yESKySURqnNuShPssE5FaEakSkbnp/A+ki4hw4YUX2mFB0ycXXXRRzm0zybQEOoBrVHU6MAO4TkTKgaVApapeQGwswqUAIjIVmA9cAlwHrBaRnPs6DQQCTJgwwe0yTI6Inzk4adIkAoGA2+X0Sa8h4AzJdsz5c5AzKTAPeM5Z/hxwszM/D1ivqh2quh+oBa5IadUZMHToUEaNGuV2GSbHjBo1imHDhrldRp8k1ScgIn4R+QBoBDap6nZgtKoeBHBu4+dMjgM+S7j7AWfZ6Y+5UER2isjOgfwH0mXo0KGUlJTkXNPOuKukpISioiK3y+iTpEJAVSOqOgMYD1whIj2NvNDdp+aMn9+p6hpVvVxVL0+u1MwqLi7OuUQ37hs6dCjFxcU59eXRp6MDqtoC/JPYvn6DiIwFcG4bndUOAOcn3G08UD/gSjMsGAzi9/vt58OmTwKBACNGjMip7SaZowOjRCTozA8BZgMfAxuBBc5qC4BXnPmNwHwRKRSRicAFwI5UF55uwWDQriRk+szn8zF8+PCcagkk0405FnjO6eH3ARtU9VUR2QZsEJHvAZ8CtwOo6m4R2QDsAcJAhapG0lN++hQXF9s1BEyf+f1+iouL3S6jT3oNAVX9EPhqN8ubgW4vuq6qjwGPDbg6FxUWFlpLwPSZiDB48OD82h3wqnh/QC69mSY75FoL0kLgLIYPH26nDJs+8/l8Obc7YCHQi1xKdJM9cqkFaSFwFkePHiUajbpdhskx0WiU1tZWt8voEwuBswiFQtYnYPol17YZC4GziIeAMX0RjUbp7Ox0u4w+sRA4i9bWVgsB02fRaJS2tja3y+gTC4GzaG1tJRqNWseg6RNVpaWlxe0y+sRC4CxaWloIh8Nul2FyTCgUoqWlJae+PCwEzuLo0aMcO3bMdglMn7S3t3P06NGc2m4sBM6ivb2dI0eO5FSiG/cdPnyY48eP59R2YyFwFu3t7TQ1NeVUohv3xA8nNzU10d7enlPbjYXAWYTDYT755BO3yzA5Zv/+/YRCIWsJ5ANVpbq6OqcS3bivqqoq504ysxDoQXV1NZFIzl0KwbgkHA5TU1Pjdhl9ZiHQg6qqKk6cOOF2GSYHqConT57k448/druUPrMQ6EF9fT0NDQ1ul2FyxMGDBzl06JDbZfSZhUAPWlpacrJ5ZzJPRKiurs65swXBQqBH0WiU7du3u12GyQGqyvbt23Py5+cWAj1QVbZt25ZzvwozmdfZ2cm2bdty6qhAnIVAL/bs2UNjY2NOvrkmc5qamti7d6/bZfSLhUAPRITGxkbef/99t0sxWe6DDz6gqanJ7TL6xUKgB9FolFAoxJtvvplzJ4CYzFBVIpEIlZWVOXtOiYVAEv7xj3/k3HXjTGaICG1tbWzevDlnvySSDgFnZOL3ReRV5+8RIrJJRGqc25KEdZeJSK2IVInI3HQUnkn79u1j9+7dbpdhspCq8tFHH1FbW5uzrcW+tAQeABJ7PpYClap6AVDp/I2ITAXmA5cQG7h0tTOEWc46ceIEGzduzMnDPya9otEoGzdu5Pjx426X0m9JhYCIjAe+ATyTsHge8Jwz/xxwc8Ly9araoar7gVrgitSU657XX389J08EMemjqhw5coTXX3/d7VIGJNmWwP8AS4DEr8LRqnoQwLktdZaPAz5LWO+As+wUIrJQRHaKyM4+V+2C6upqtm7dmrNNPpMeW7dupba21u0yBiSZoclvBBpV9b0kH7O7H1Kf8alR1TWqermqXp7k47oqHA7z4osv2ngEpks4HGb9+vWEQiG3SxmQZFoCVwP/LSKfAOuBa0Tkz0CDiIwFcG4bnfUPAOcn3H88UJ+yil0Q/9Bv2rSJffv2uV2OyRJ1dXVUVlbm1AVEutNrCKjqMlUdr6oTiHX4/UNV7wY2Aguc1RYArzjzG4H5IlIoIhOBC4AdKa88w1SVxsZGNmzYYK0Aj4ufG7B+/Xo+//zznO8wHsh5Ak8Ac0SkBpjj/I2q7gY2AHuA/wUqVDU3z6LoxgsvvEBjY2POp78ZmIaGBtatW+d2GSnRpxBQ1X+q6o3OfLOqXquqFzi3hxPWe0xVJ6vqRaqa212np6mrq+Pll1+21oCHqSovv/wy+/btIxqN5vy2YGcM9lE0GmXNmjU0Nze7XYpxSXNzM7///e/zZnAaC4F++Oijj3jppZdy/hvA9M9LL72UV2eQWgj0UTQaJRwOs3LlSg4dOpSzPxoxfaOqRKNRDh48yNNPP503rQCwEOi3vXv38vzzzwO5Nx696R9V5fnnn2fPnj1ul5JSFgL9FIlEWLVqFfv373e7FJMh+/btY9WqVTl/SPB0FgL9JCIcOHCAp556is7OTiKRSN5tHOYLoVCIX/3qVxw4cCAvjggkshDop/hZhOvWrWPLli1ul2PSbMuWLaxbty4vg95CYABUldbWVh599FGOHDnidjkmDVSV5uZmHnnkEVpbW/OqBRBnITAA8dbAjh07+M1vfpOX3xJepqqEw2FWrVqVs1cSToaFQAqEQiFWrlzJ1q1b3S7FpNi//vUvVq1aldeHgi0EUqS5uZmHHnqIQ4cO5e03hlfEzwk4dOgQy5Yty/uzQy0EUkREeO+993jsscc4ceKEBUEOU1U6Ozt5/PHH+fe//533PxazEEihSCTCH/7wB/u5cQ6L9/O88MILPPvss3l1ZuDZSDZsrCLifhEp4vP5GDNmDC+++CJXXXVV1zKT3eIffhHh7bffZv78+Rw8eNDtslLtve6u5GVbZxo0NDSwePFiO5swB9XV1fHAAw94akh6C4EUi3cq7dq1i8WLF9Pc3Ny1a5ANrS5zpvj78vnnn7N48WI+/PBDlyvKLAuBFIs3K1WVN954gyVLlnD06NG8O9U0X8Tfk2PHjrFkyRI2bdpENBr11DkfFgJptm7dOh599FE6OjrcLsWcJh7W7e3t/OxnP8vb04J7YyGQRpFIhI6ODp5++mlWrFhBR0dHV4vAWgXuSXz9Ozs7efLJJ1m9ejWdnZ2efF8sBDKgo6ODJ554gieeeIKOjg4LgSxx8uRJfvnLX3YFtFcF3C7AKzo7O1mxYgUiwkMPPcTgwYPdLsnT2tvbefLJJ1mxYgWdnZ1ul+OuxI4styZiIxR5YiosLNQHH3xQ29raNBKJaCQS0Wg0qib9otGoRqNRbWtr0wcffFALCwtd3x4yPO3U7j5/3S3M9JQFL07GJp/Pp4WFhfrd735XGxoaLAQyJBqNaiQS0YaGBl2wYIEWFBS4vi1YCHg0BERERUT9fr9ef/31WlNT0/UNZdInEoloTU2Nzp07V/1+vzpnqXpt6n8IAJ8A/wE+iD8QMALYBNQ4tyUJ6y8jNiR5FTA3icd3+8VxZfL7/TpjxgzdsmWLhkIhjUQiGftQeEE8XMPhsL711ls6Y8YM9fl8rr/vLk4DDoFzT1u2AljqzC8FljvzU4FdQCEwEagD/L08vtsvjiuT3+9Xv9+v48aN07Vr1+qJEycy9fnwhEgkoidOnNBnnnlGx44d6+UWQHxKeQhUAWOd+bFAlX7RCliWsN7fgZm9PL7bL46rk4jokCFD9P7779eDBw927b9af0HfJe5a1dfX66JFi3TIkCGuv8dZMnUbAsmeJ6DAGyLynogsdJaNVtWDAM5tqbN8HPBZwn0POMtMD06ePMlvf/tbbrnlFrZs2dJ1JRv9IihNEkSEUCjE5s2b+eY3v8maNWs8fQ5AMpINgatV9TLgeqBCRL7Ww7rdXYHhjK1YRBaKyE4R2ZlkDXlLNfYT1kgkwo4dO7j11lt5/PHH8/6KNunQ3NzML37xC2677Tbeffddt8vJDd01D3qagJ8DP8J2B9I6+f1+nTVrllZWVurJkye7dg/MF+K7TdFoVE+ePKlvvvmmzpo1S/1+v+vvX5ZO/esTAIYCxQnzW4HrgCc5tWNwhTN/Cad2DO7DOgb7Nfn9fg0Gg7po0SKtqanRUCiUwY9Y9otEIhoOh7W6uloXLVqkwWDQ6x1/vU39DoFJxD7Uu4DdwMPO8pFAJbFDhJXAiIT7PEzsqEAVcH0Sz+H2i5OVU7w32+fz6Ze+9CVdsWKFHjp0yDoLHfX19bpixQr98pe/bD3/yU3dhoBdXixHiAh+v5+pU6dy3333ceuttzJy5Miuf8t3+sUXBs3Nzbz00kusXr2a3bt3E4lErPM0Od1eXsxCIEfEP+giwqBBg5gyZQoLFy5k3rx5jB07Nu+DIBKJ0NDQwN/+9jeeeeYZ9uzZc8pFQLNhO84BFgL5IP5hV1X8fj+TJ0/mrrvu4o477mDSpEkEAoEz1s01idtkOBymrq6OF198kRdeeIG6urq8HggkzSwE8pGIICKce+65XHvttdx5553MnDmTYDCIz+c7pQWRzeLbYbzZf/jwYbZu3cr69evZvHkzn3/+uV2ibeAsBPLV6bsKZWVl3HDDDdx0001MmzaNc845J+svex6NRmltbeU///kPr776Kq+99hq1tbWEQqGudRL7BUy/WAh4TVFREZMmTeLaa69l9uzZTJ8+nVGjRlFYWAjEQqOrhzhNLYaetq+Ojg4aGxvZtWsXlZWVbN68mbq6Otrb21Nag+liIeA1iR/oQCBAaWkpU6ZMoby8nCuvvJKLL76YMWPGUFhYiN/vB1I/UEo8ZMLhMB0dHRw8eJDq6mreeecd3nnnHfbu3UtTUxPhcPiUUDJpYSHgNYkhkPhtD+D3+wkGg4wZM4YpU6ZQVlbGRRddxMSJEyktLSUYDDJ8+HB8Ph9+v/+U/oV4UCTuo8cP04VCIdrb2zl8+DBNTU3s37+fqqoqampq+Pjjjzl06BAtLS1n3b/Phu0xj1kImJ6JCIFAgGHDhlFUVERxcTHBYJCSkhKKi4spKCjo+ncR4ejRo4RCIUKhEK2trbS2tnLkyBGOHTvG8ePHaW9vJxQK2Qc7e3QbAnahUdMl/k1+5MgRWlpaupbBmX0F8ZZF4r8nLku8NdnNQsB06/Rv796a7omH+Lq7Ndkru48bGWPSzkLAGI+zEDDG4ywEjPE4CwFjPM5CwBiPsxAwxuMsBIzxOAsBYzzOQsAYj7MQMMbjLASM8TgLAWM8zkLAGI+zEDDG45IKAREJishfRORjEdkrIjNFZISIbBKRGue2JGH9ZSJSKyJVIjI3feUbYwYq2ZbAr4H/VdWLgenAXmKDkFaq6gXExiJcCiAiU4H5xAYmvQ5YLSL+VBdujEmNXkNARIYDXwP+AKCqnaraAswDnnNWew642ZmfB6xX1Q5V3Q/UAlekunBjTGok0xKYBDQBa0XkfRF5RkSGAqNV9SCAc1vqrD8O+Czh/gecZacQkYUislNEdg7of2CMGZBkQiAAXAb8RlW/CrTjNP3PorsrS55xoTlVXaOql3d39VNjTOYkEwIHgAOqut35+y/EQqFBRMYCOLeNCeufn3D/8UB9aso1xqRaryGgqoeAz0TkImfRtcAeYCOwwFm2AHjFmd8IzBeRQhGZCFwA7Ehp1caYlEn2kuOLgedFpADYB3yXWIBsEJHvAZ8CtwOo6m4R2UAsKMJAharaWNLGZCkbgcgY7+h2BCI7Y9AYj7MQMMbjLASM8TgLAWM8zkLAGI+zEDDG4ywEjPE4CwFjPM5CwBiPsxAwxuMsBIzxuGR/QJRux4Aqt4sAzgU+txqA7KgjG2qA7KgjFTV8ubuF2RICVdlwcRER2el2HdlQQ7bUkQ01ZEsd6azBdgeM8TgLAWM8LltCYI3bBTiyoY5sqAGyo45sqAGyo4601ZAVFxUxxrgnW1oCxhiXuB4CInKdM1xZrYj0dCnzVDzXsyLSKCIfJSzL6HBqInK+iGx2hnPbLSIPZLoOERksIjtEZJdTwyOZriHhcf3OeBavuljDJyLyHxH5ID4OhgvbhXtD/amqaxPgB+qIDXBSAOwCpqbx+b5G7HLpHyUsWwEsdeaXAsud+alOPYXARKdOfwpqGAtc5swXA9XOc2WsDmJjQwxz5gcB24HyTL8WzmP/EHgBeNWN98N57E+Ac09blunt4jng+858ARDMVA1p+bD14T8+E/h7wt/LgGVpfs4Jp4VAFTDWmR9L7JyFM2oB/g7MTEM9rwBz3KoDKAL+DVyZ6RqIjUlRCVyTEAIZfx3OEgIZqwMYDuzH6aPLdA1u7w4kNWRZmg1oOLWBEJEJwFeJfRNntA6nGf4BsUFjNmlscJlMvxb/AywBognL3Hg/FHhDRN4TkYUu1JGWof6S5XYIJDVkmbsf1jQAAAF0SURBVEvSWpuIDAP+CvxAVdsyXYeqRlR1BrFv4ytEZFomaxCRG4FGVX0v2bukuoYEV6vqZcD1QIWIfC3DdaRlqL9kuR0C2TBkWcaHUxORQcQC4HlV/ZtbdQBobITpfxIbRj6TNVwN/LeIfAKsB64RkT9nuAYAVLXeuW0EXiI2inYm63B1qD+3Q+Bd4AIRmeiMbjSf2DBmmZTR4dRERIgN875XVZ9yow4RGSUiQWd+CDAb+DiTNajqMlUdr6oTiL3v/1DVuzNZA4CIDBWR4vg88H+AjzJZh7o91F8qOlYG2ClyA7Ee8jrg4TQ/1zrgIBAilqbfA0YS65yqcW5HJKz/sFNXFXB9imqYRazp9iHwgTPdkMk6gK8A7zs1fAT8X2d5Rl+LhMf+L77oGMz0+zGJWE/7LmB3fBt0oY4ZwE7nPXkZKMlUDXbGoDEe5/bugDHGZRYCxnichYAxHmchYIzHWQgY43EWAsZ4nIWAMR5nIWCMx/1/orHZLvU/JmsAAAAASUVORK5CYII=\n",
      "text/plain": [
       "<Figure size 432x288 with 1 Axes>"
      ]
     },
     "metadata": {
      "needs_background": "light"
     },
     "output_type": "display_data"
    }
   ],
   "source": [
    "img2 = processImage(\"circle.jpg\")\n",
    "plt.imshow(img2, cmap='gray')"
   ]
  },
  {
   "cell_type": "markdown",
   "metadata": {},
   "source": [
    "## Gaussian filtering\n",
    "\n",
    "The equation for a Gaussian filter kernel of size $(2k+1)\\times(2k+1)$ is given by:\n",
    "$$ H_{i,j} = \\frac{1}{2\\pi\\sigma^2}\\exp\\left(-\\frac{\\left(i-(k+1)\\right)^2+\\left(j-(k+1)\\right)^2}{2\\sigma^2}\\right); 1\\le i, j\\le(2k+1)\n",
    "$$"
   ]
  },
  {
   "cell_type": "code",
   "execution_count": 28,
   "metadata": {
    "scrolled": true
   },
   "outputs": [
    {
     "data": {
      "text/plain": [
       "<matplotlib.image.AxesImage at 0x7f845143ba50>"
      ]
     },
     "execution_count": 28,
     "metadata": {},
     "output_type": "execute_result"
    },
    {
     "data": {
      "image/png": "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\n",
      "text/plain": [
       "<Figure size 432x288 with 1 Axes>"
      ]
     },
     "metadata": {
      "needs_background": "light"
     },
     "output_type": "display_data"
    }
   ],
   "source": [
    "gauss_kernel = get_gaussian_kernel(3)\n",
    "blurred = convolve(img2, gauss_kernel, padding=1)\n",
    "plt.imshow(blurred, cmap='gray')"
   ]
  },
  {
   "cell_type": "markdown",
   "metadata": {},
   "source": [
    "## Sobel filtering (horizontal gradient)"
   ]
  },
  {
   "cell_type": "code",
   "execution_count": 29,
   "metadata": {
    "deletable": false,
    "editable": false,
    "nbgrader": {
     "cell_type": "code",
     "checksum": "c32d7127e5ded65a7c719c99daeaa889",
     "grade": false,
     "grade_id": "cell-8ef9837d04af9e33",
     "locked": true,
     "schema_version": 3,
     "solution": false,
     "task": false
    }
   },
   "outputs": [
    {
     "data": {
      "text/plain": [
       "<matplotlib.image.AxesImage at 0x7f845142f210>"
      ]
     },
     "execution_count": 29,
     "metadata": {},
     "output_type": "execute_result"
    },
    {
     "data": {
      "image/png": "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\n",
      "text/plain": [
       "<Figure size 432x288 with 1 Axes>"
      ]
     },
     "metadata": {
      "needs_background": "light"
     },
     "output_type": "display_data"
    }
   ],
   "source": [
    "kernelX = get_sobel_kernel(3)\n",
    "grad_pawn_x = convolve(img, kernelX, padding=1)\n",
    "plt.imshow(grad_pawn_x, cmap='gray')"
   ]
  },
  {
   "cell_type": "code",
   "execution_count": 30,
   "metadata": {
    "deletable": false,
    "editable": false,
    "nbgrader": {
     "cell_type": "code",
     "checksum": "8e730b94141a59254c62cd5a716ada08",
     "grade": false,
     "grade_id": "cell-3131791f9dcb138b",
     "locked": true,
     "schema_version": 3,
     "solution": false,
     "task": false
    }
   },
   "outputs": [
    {
     "data": {
      "text/plain": [
       "<matplotlib.image.AxesImage at 0x7f8451398a90>"
      ]
     },
     "execution_count": 30,
     "metadata": {},
     "output_type": "execute_result"
    },
    {
     "data": {
      "image/png": "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\n",
      "text/plain": [
       "<Figure size 432x288 with 1 Axes>"
      ]
     },
     "metadata": {
      "needs_background": "light"
     },
     "output_type": "display_data"
    }
   ],
   "source": [
    "grad_circle_x = convolve(img2, kernelX, padding=1)\n",
    "plt.imshow(grad_circle_x, cmap='gray')"
   ]
  },
  {
   "cell_type": "markdown",
   "metadata": {},
   "source": [
    "## Sobel filtering (vertical gradient)"
   ]
  },
  {
   "cell_type": "markdown",
   "metadata": {},
   "source": [
    "You should get results similar to:\n",
    "<p align=\"center\" style=\"padding: 10px\">\n",
    "<img alt=\"Input\" src=\"grad_pawn_vertical.jpg\" width=\"520\">\n",
    "</p> "
   ]
  },
  {
   "cell_type": "markdown",
   "metadata": {},
   "source": [
    "## Gradient magnitude (intensity)\n",
    "\n",
    "Gradient intensity is:\n",
    "$$ \\left|G\\right| = \\sqrt{I_x^2 + I_y^2}$$\n",
    "\n",
    "The images below show computed gradient magnitude (intensity)\n",
    "<p align=\"center\" style=\"padding: 10px\">\n",
    "<img alt=\"Input\" src=\"grad_magnitude_pawn.jpg\" width=\"320\">\n",
    "</p> \n",
    "\n",
    "<p align=\"center\" style=\"padding: 10px\">\n",
    "<img alt=\"Input\" src=\"grad_magnitude_circle.jpg\" width=\"320\">\n",
    "</p> "
   ]
  },
  {
   "cell_type": "markdown",
   "metadata": {},
   "source": [
    "## Gradient direction\n",
    "\n",
    "Gradient direction is an angle:\n",
    "$$ \\left|G\\right| = \\arctan\\left(\\frac{I_x}{I_y}\\right)$$\n",
    "\n",
    "Gradient direction is best displayed for the circle image:\n",
    "<p align=\"center\" style=\"padding: 10px\">\n",
    "<img alt=\"Input\" src=\"grad_orientation_circle.jpg\" width=\"520\">\n",
    "</p> "
   ]
  },
  {
   "cell_type": "markdown",
   "metadata": {},
   "source": [
    "## Non max supression\n",
    "\n",
    "Ideally, we want to have thin edges on the final image. For this, we can use non-maximum suppression method to reduce edge thickness.\n",
    "This main idea is quite clear: the algorithm goes through all the points on the gradient intensity matrix and finds the pixels with the maximum value along the edge directions from gradient orientation matrix.\n",
    "\n",
    "The image below shows result of using ```non_max_supression``` function\n",
    "<p align=\"center\" style=\"padding: 10px\">\n",
    "<img alt=\"Input\" src=\"thin_edges.jpg\" width=\"520\">\n",
    "</p> "
   ]
  },
  {
   "cell_type": "markdown",
   "metadata": {},
   "source": [
    "## Threshold\n",
    "\n",
    "The double threshold step aims at identifying 3 kinds of pixels: strong, weak, and non-relevant:\n",
    "* Strong pixels are pixels that have very high intensity and will be included to the final edge.\n",
    "* Weak pixels are pixels that have an intensity value that is not enough to be considered as strong ones, but yet not small enough to be considered as non-relevant for the edge detection.\n",
    "* Irrelevant pixels\n",
    "\n",
    "<img alt=\"threshold\" src=\"threshold.jpg\">"
   ]
  },
  {
   "cell_type": "markdown",
   "metadata": {},
   "source": [
    "## Hysterisis\n",
    "\n",
    "Based on the threshold results, the hysteresis consists of transforming weak pixels into strong ones, if and only if at least one of the pixels around the one being processed is a strong one"
   ]
  },
  {
   "cell_type": "markdown",
   "metadata": {},
   "source": [
    "If your are not sure which parameters to use for the previous functions, try default ones first\n",
    "If you do everything right, you will get final result:\n",
    "<p align=\"center\" style=\"padding: 10px\">\n",
    "<img alt=\"Input\" src=\"canny.jpg\" width=\"520\">\n",
    "</p> "
   ]
  },
  {
   "cell_type": "code",
   "execution_count": 13,
   "metadata": {},
   "outputs": [],
   "source": [
    "#def get_canny_edges(img):\n",
    "\n",
    "\"\"\"\n",
    "    # Use convolve to apply gaussian filter from get_gaussian_kernel to the image\n",
    "    denoised = ???\n",
    "    # Get Sobel kernels and compute horizontal and vertical gradients using convolve function\n",
    "    horizontal_grad = ???\n",
    "    vertical_grad = ???\n",
    "    # Compute the intensity and direction of gradients using get_intensity_and_direction\n",
    "    # NOTE: you should implement it below\n",
    "    grad_intensity, grad_direction = ???\n",
    "    # Use this matrices in non-max supression method to make thinner edges\n",
    "    thin_edges = ???\n",
    "    # Discard irrelevant pixels using double threshold method\n",
    "    thresholded = ???\n",
    "    # Use hysteresis to define which weak pixels should be included in the final results\n",
    "    # NOTE: parameters \"weak\" and \"strong\" should be the same for threshold and hysteresis\n",
    "    final_result = ???\n",
    "    return final_result\n",
    "    \"\"\"\n",
    "    # your code here\n",
    "#img = cv2.imread(img)\n",
    "gauss_kernel = get_gaussian_kernel(3)\n",
    "denoised = convolve(img, gauss_kernel)\n",
    "\n",
    "kernelX = get_sobel_kernel(3)\n",
    "kernelY = kernelX.transpose()\n",
    "horizontal_grad = convolve(img, kernelX)\n",
    "vertical_grad = convolve(img, kernelY)\n",
    "\n",
    "# In this function you will return gradient intensity and direction (in radians)\n",
    "def get_intensity_and_direction(horizontal_grad, vertical_grad):    \n",
    "    # your code here\n",
    "    Ix = convolve(horizontal_grad, kernelX)\n",
    "    Iy = convolve(vertical_grad, kernelY)\n",
    "    grad_intensity = np.hypot(Ix,Iy)\n",
    "    grad_direction = np.arctan2(Ix,Iy)\n",
    "    \n",
    "    return grad_intensity, grad_direction\n",
    "\n",
    "grad_intensity, grad_direction = get_intensity_and_direction(horizontal_grad, vertical_grad)\n",
    "\n",
    "thin_edges = non_max_suppression(grad_intensity, grad_direction)\n",
    "    \n",
    "high_threshold = 0.7*img.max()\n",
    "low_threshold = high_threshold*0.1    \n",
    "strong = img.max()\n",
    "weak = 0\n",
    "    \n",
    "#M, N = thin_edges.shape\n",
    "#res = np.zeros((M,N))\n",
    "\n",
    "#strong_i, strong_j = np.where(thin_edges >= high_threshold)\n",
    "#zeros_i, zeros_j = np.where(thin_edges < low_threshold)\n",
    "    \n",
    "#weak_i, weak_j = np.where((thin_edges <= high_threshold) & (thin_edges >= low_threshold))\n",
    "#res[strong_i, strong_j] = strong\n",
    "#res[weak_i, weak_j] = weak\n",
    "    \n",
    "\n",
    "thresholded = threshold(thin_edges, low_threshold, high_threshold, weak, strong)\n",
    "test_img1 = hysteresis(thresholded, weak, strong)\n",
    "\n",
    "    \n",
    "    "
   ]
  },
  {
   "cell_type": "code",
   "execution_count": 14,
   "metadata": {},
   "outputs": [
    {
     "name": "stdout",
     "output_type": "stream",
     "text": [
      "Grad Intensity:  (75, 75)\n",
      "Grad Direction:  (75, 75)\n",
      "Thin edges:  (75, 75)\n",
      "Image shape:  (75, 75)\n",
      "Thresholded:  (75, 75)\n",
      "FR:  (75, 75)\n",
      "Image max:  255\n",
      "TE max:  7488\n",
      "HT:  178.5\n",
      "LT:  17.85\n"
     ]
    },
    {
     "data": {
      "text/plain": [
       "<matplotlib.image.AxesImage at 0x7f8451f1e590>"
      ]
     },
     "execution_count": 14,
     "metadata": {},
     "output_type": "execute_result"
    },
    {
     "data": {
      "image/png": "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\n",
      "text/plain": [
       "<Figure size 432x288 with 1 Axes>"
      ]
     },
     "metadata": {
      "needs_background": "light"
     },
     "output_type": "display_data"
    }
   ],
   "source": [
    "print(\"Grad Intensity: \", grad_intensity.shape)\n",
    "print(\"Grad Direction: \", grad_direction.shape)\n",
    "print(\"Thin edges: \", thin_edges.shape)\n",
    "print(\"Image shape: \", img.shape)\n",
    "print(\"Thresholded: \", thresholded.shape)\n",
    "print(\"FR: \", test_img1.shape)\n",
    "print(\"Image max: \", img.max())\n",
    "print(\"TE max: \", thin_edges.max())\n",
    "print(\"HT: \", high_threshold)\n",
    "print(\"LT: \", low_threshold)\n",
    "#print(\"res shape: \", res.shape)\n",
    "plt.imshow(thresholded, cmap='gray')\n"
   ]
  },
  {
   "cell_type": "code",
   "execution_count": null,
   "metadata": {},
   "outputs": [],
   "source": [
    "#gauss_kernel = get_gaussian_kernel(3)\n",
    "#denoised = convolve(img, gauss_kernel)\n",
    "\n",
    "#kernelX = get_sobel_kernel(3)\n",
    "#kernelY = kernelX.transpose()\n",
    "#horizontal_grad = convolve(img, kernelX)\n",
    "#vertical_grad = convolve(img, kernelY)\n",
    "#grad_intensity, grad_direction = get_intensity_and_direction(horizontal_grad, vertical_grad)\n",
    "\n",
    "#thin_edges = non_max_suppression(grad_intensity, grad_direction)\n",
    "#strong = 250\n",
    "#weak = 5\n",
    "#high_threshold = 0.02*thin_edges.max()\n",
    "#low_threshold = high_threshold*0.5\n",
    "#high_threshold = 150\n",
    "#low_threshold = 25\n",
    "\n",
    "#thresholded = threshold(thin_edges, low_threshold, high_threshold, weak, strong)\n",
    "#final_result = hysteresis(thresholded, weak, strong)\n",
    "\n",
    "#difference = thresholded - final_result\n",
    "#print(thin_edges.shape)\n",
    "#print(thin_edges.max())\n",
    "#print(\"high threshold: \", high_threshold, \"low_threshold: \", low_threshold)\n",
    "#print(difference.max())\n",
    "#plt.imshow(final_result, cmap='gray')\n",
    "#plt.imshow(thresholded, cmap='gray')\n"
   ]
  },
  {
   "cell_type": "code",
   "execution_count": 33,
   "metadata": {},
   "outputs": [
    {
     "name": "stdout",
     "output_type": "stream",
     "text": [
      "[[  0.   0.   0.]\n",
      " [ 50.  50.  50.]\n",
      " [ 50.  50. 250.]]\n"
     ]
    },
    {
     "data": {
      "image/png": "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\n",
      "text/plain": [
       "<Figure size 432x288 with 1 Axes>"
      ]
     },
     "metadata": {
      "needs_background": "light"
     },
     "output_type": "display_data"
    }
   ],
   "source": [
    "test_image = np.array([[0,1,2], [3,4,5], [5,6,7]])\n",
    "plt.imshow(test_image, cmap='gray')\n",
    "LTH = 3\n",
    "HTH = 6\n",
    "ST = 250\n",
    "WE = 50\n",
    "def threshold2(test_image, low_threshold, high_threshold, weak, strong):\n",
    "    M, N = test_image.shape\n",
    "    res = np.zeros((M,N))\n",
    "\n",
    "    strong_i, strong_j = np.where(test_image >= high_threshold)\n",
    "    zeros_i, zeros_j = np.where(test_image < low_threshold)\n",
    "    \n",
    "    weak_i, weak_j = np.where((test_image <= high_threshold) & (test_image >= low_threshold))\n",
    "    res[strong_i, strong_j] = strong\n",
    "    res[weak_i, weak_j] = weak\n",
    "    return res\n",
    "\n",
    "N_thresh = threshold2(test_image, LTH, HTH, WE, ST)\n",
    "plt.imshow(N_thresh, cmap='gray')\n",
    "print(N_thresh)"
   ]
  },
  {
   "cell_type": "code",
   "execution_count": null,
   "metadata": {},
   "outputs": [],
   "source": []
  }
 ],
 "metadata": {
  "kernelspec": {
   "display_name": "Python 3",
   "language": "python",
   "name": "python3"
  },
  "language_info": {
   "codemirror_mode": {
    "name": "ipython",
    "version": 3
   },
   "file_extension": ".py",
   "mimetype": "text/x-python",
   "name": "python",
   "nbconvert_exporter": "python",
   "pygments_lexer": "ipython3",
   "version": "3.7.6"
  }
 },
 "nbformat": 4,
 "nbformat_minor": 2
#end of code}
